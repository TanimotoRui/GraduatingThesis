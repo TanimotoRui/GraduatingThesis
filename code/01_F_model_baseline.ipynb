{
  "cells": [
    {
      "cell_type": "code",
      "execution_count": null,
      "metadata": {
        "id": "3CBjFjMkqqhi"
      },
      "outputs": [],
      "source": [
        "!pip install japanize-matplotlib"
      ]
    },
    {
      "cell_type": "code",
      "execution_count": null,
      "metadata": {
        "id": "PIzsFl2hA8b_"
      },
      "outputs": [],
      "source": [
        "!pip install gspread"
      ]
    },
    {
      "cell_type": "code",
      "execution_count": null,
      "metadata": {
        "id": "NnXuiZaUqYpy"
      },
      "outputs": [],
      "source": [
        "import pandas as pd\n",
        "import numpy as np\n",
        "%matplotlib inline\n",
        "import japanize_matplotlib\n",
        "from sklearn.model_selection import train_test_split\n",
        "from matplotlib import pyplot as plt\n",
        "import seaborn as sns\n",
        "import warnings\n",
        "warnings.filterwarnings('ignore')"
      ]
    },
    {
      "cell_type": "code",
      "execution_count": null,
      "metadata": {
        "id": "elDW0mAOy7wf"
      },
      "outputs": [],
      "source": [
        "japanize_matplotlib.japanize()"
      ]
    },
    {
      "cell_type": "code",
      "execution_count": null,
      "metadata": {
        "id": "OatEDe_zq6pX"
      },
      "outputs": [],
      "source": [
        "#ドライブへのアクセス\n",
        "from google.colab import drive\n",
        "drive.mount('/content/drive')\n",
        "%cd \"myPath\""
      ]
    },
    {
      "cell_type": "markdown",
      "metadata": {
        "id": "c9ZrCwBMA05I"
      },
      "source": [
        "# データのダウンロード"
      ]
    },
    {
      "cell_type": "code",
      "execution_count": null,
      "metadata": {
        "id": "f3q5hTaYC44A"
      },
      "outputs": [],
      "source": [
        "cols = [\n",
        "    'timestamp',\n",
        "    'mail_adress',\n",
        "    'sex',\n",
        "    'friends_in_LINE',\n",
        "    'GPA',\n",
        "    'start_day',\n",
        "    'number_of_companies', # 受けた企業数\n",
        "    'number_of_offer',     # 内定数\n",
        "    'best_offer',          # 第一志望群からの内定可否\n",
        "    'Cooperativeness',     # 協調性\n",
        "    'Aggressiveness',      # 積極性\n",
        "    'Action',              #行動力\n",
        "    'Communication',       #コミュ力\n",
        "    'Problem-solving ability',\n",
        "    'Challange',\n",
        "    'Job_hunting_action'\n",
        "    ]"
      ]
    },
    {
      "cell_type": "code",
      "execution_count": null,
      "metadata": {
        "id": "hKGUISvjA0bR"
      },
      "outputs": [],
      "source": [
        "# 任意のライブラリのインポート\n",
        "from google.colab import auth\n",
        "from google.auth import default\n",
        "from oauth2client.client import GoogleCredentials\n",
        "import gspread\n",
        "import pandas as pd\n",
        "from sklearn.linear_model import LinearRegression\n",
        "\n",
        "# GSS読み取りのための準備\n",
        "auth.authenticate_user()\n",
        "creds, _ = default()\n",
        "gc = gspread.authorize(creds)\n",
        "\n",
        "# 読み込み対象のスプレットシートのURLの定義\n",
        "url = 'mySpreadSheetId'\n",
        "\n",
        "# データをpandasに乗せる\n",
        "worksheet = gc.open_by_url(url).get_worksheet(0)\n",
        "data = pd.DataFrame(worksheet.get_all_values()[1:], columns = cols)"
      ]
    },
    {
      "cell_type": "code",
      "execution_count": null,
      "metadata": {
        "id": "peVfnR-2E6b3"
      },
      "outputs": [],
      "source": [
        "#はいを1に、いいえ, を0に変換, 性別を数値に変換\n",
        "data['best_offer'].replace({'はい':1, 'いいえ':0}, inplace=True)\n",
        "data['sex'].replace({'男性':1, '女性':0}, inplace=True)\n",
        "data.head()"
      ]
    },
    {
      "cell_type": "code",
      "execution_count": null,
      "metadata": {
        "id": "Uzztk0M9Ejv6"
      },
      "outputs": [],
      "source": [
        "# 使用カラムを限定\n",
        "use_cols= [\t'friends_in_LINE',\n",
        "           'GPA',\n",
        "           'start_day',\n",
        "           'number_of_companies',\n",
        "           'number_of_offer',\n",
        "           'best_offer'\n",
        "           ]\n",
        "\n",
        "df = data[use_cols]"
      ]
    },
    {
      "cell_type": "code",
      "execution_count": null,
      "metadata": {
        "colab": {
          "base_uri": "https://localhost:8080/",
          "height": 206
        },
        "id": "ZQ635gvoF0wY",
        "outputId": "c051826f-ea5a-47ca-8e8d-90050fe41b96"
      },
      "outputs": [
        {
          "data": {
            "text/html": [
              "\n",
              "  <div id=\"df-71014ab0-e372-4b98-b45a-e9c6075443be\">\n",
              "    <div class=\"colab-df-container\">\n",
              "      <div>\n",
              "<style scoped>\n",
              "    .dataframe tbody tr th:only-of-type {\n",
              "        vertical-align: middle;\n",
              "    }\n",
              "\n",
              "    .dataframe tbody tr th {\n",
              "        vertical-align: top;\n",
              "    }\n",
              "\n",
              "    .dataframe thead th {\n",
              "        text-align: right;\n",
              "    }\n",
              "</style>\n",
              "<table border=\"1\" class=\"dataframe\">\n",
              "  <thead>\n",
              "    <tr style=\"text-align: right;\">\n",
              "      <th></th>\n",
              "      <th>friends_in_LINE</th>\n",
              "      <th>GPA</th>\n",
              "      <th>start_day</th>\n",
              "      <th>number_of_companies</th>\n",
              "      <th>number_of_offer</th>\n",
              "      <th>best_offer</th>\n",
              "    </tr>\n",
              "  </thead>\n",
              "  <tbody>\n",
              "    <tr>\n",
              "      <th>0</th>\n",
              "      <td>484</td>\n",
              "      <td>3.5</td>\n",
              "      <td>2021/02/01</td>\n",
              "      <td>12</td>\n",
              "      <td>4</td>\n",
              "      <td>1</td>\n",
              "    </tr>\n",
              "    <tr>\n",
              "      <th>1</th>\n",
              "      <td>189</td>\n",
              "      <td>1.5</td>\n",
              "      <td>2022/03/20</td>\n",
              "      <td>2</td>\n",
              "      <td>0</td>\n",
              "      <td>0</td>\n",
              "    </tr>\n",
              "    <tr>\n",
              "      <th>2</th>\n",
              "      <td>300</td>\n",
              "      <td>3.2</td>\n",
              "      <td>2021/05/01</td>\n",
              "      <td>6</td>\n",
              "      <td>4</td>\n",
              "      <td>1</td>\n",
              "    </tr>\n",
              "    <tr>\n",
              "      <th>3</th>\n",
              "      <td>183</td>\n",
              "      <td>3</td>\n",
              "      <td>2021/05/01</td>\n",
              "      <td>10</td>\n",
              "      <td>5</td>\n",
              "      <td>1</td>\n",
              "    </tr>\n",
              "    <tr>\n",
              "      <th>4</th>\n",
              "      <td>436</td>\n",
              "      <td>3.3</td>\n",
              "      <td>2021/03/01</td>\n",
              "      <td>10</td>\n",
              "      <td>6</td>\n",
              "      <td>1</td>\n",
              "    </tr>\n",
              "  </tbody>\n",
              "</table>\n",
              "</div>\n",
              "      <button class=\"colab-df-convert\" onclick=\"convertToInteractive('df-71014ab0-e372-4b98-b45a-e9c6075443be')\"\n",
              "              title=\"Convert this dataframe to an interactive table.\"\n",
              "              style=\"display:none;\">\n",
              "        \n",
              "  <svg xmlns=\"http://www.w3.org/2000/svg\" height=\"24px\"viewBox=\"0 0 24 24\"\n",
              "       width=\"24px\">\n",
              "    <path d=\"M0 0h24v24H0V0z\" fill=\"none\"/>\n",
              "    <path d=\"M18.56 5.44l.94 2.06.94-2.06 2.06-.94-2.06-.94-.94-2.06-.94 2.06-2.06.94zm-11 1L8.5 8.5l.94-2.06 2.06-.94-2.06-.94L8.5 2.5l-.94 2.06-2.06.94zm10 10l.94 2.06.94-2.06 2.06-.94-2.06-.94-.94-2.06-.94 2.06-2.06.94z\"/><path d=\"M17.41 7.96l-1.37-1.37c-.4-.4-.92-.59-1.43-.59-.52 0-1.04.2-1.43.59L10.3 9.45l-7.72 7.72c-.78.78-.78 2.05 0 2.83L4 21.41c.39.39.9.59 1.41.59.51 0 1.02-.2 1.41-.59l7.78-7.78 2.81-2.81c.8-.78.8-2.07 0-2.86zM5.41 20L4 18.59l7.72-7.72 1.47 1.35L5.41 20z\"/>\n",
              "  </svg>\n",
              "      </button>\n",
              "      \n",
              "  <style>\n",
              "    .colab-df-container {\n",
              "      display:flex;\n",
              "      flex-wrap:wrap;\n",
              "      gap: 12px;\n",
              "    }\n",
              "\n",
              "    .colab-df-convert {\n",
              "      background-color: #E8F0FE;\n",
              "      border: none;\n",
              "      border-radius: 50%;\n",
              "      cursor: pointer;\n",
              "      display: none;\n",
              "      fill: #1967D2;\n",
              "      height: 32px;\n",
              "      padding: 0 0 0 0;\n",
              "      width: 32px;\n",
              "    }\n",
              "\n",
              "    .colab-df-convert:hover {\n",
              "      background-color: #E2EBFA;\n",
              "      box-shadow: 0px 1px 2px rgba(60, 64, 67, 0.3), 0px 1px 3px 1px rgba(60, 64, 67, 0.15);\n",
              "      fill: #174EA6;\n",
              "    }\n",
              "\n",
              "    [theme=dark] .colab-df-convert {\n",
              "      background-color: #3B4455;\n",
              "      fill: #D2E3FC;\n",
              "    }\n",
              "\n",
              "    [theme=dark] .colab-df-convert:hover {\n",
              "      background-color: #434B5C;\n",
              "      box-shadow: 0px 1px 3px 1px rgba(0, 0, 0, 0.15);\n",
              "      filter: drop-shadow(0px 1px 2px rgba(0, 0, 0, 0.3));\n",
              "      fill: #FFFFFF;\n",
              "    }\n",
              "  </style>\n",
              "\n",
              "      <script>\n",
              "        const buttonEl =\n",
              "          document.querySelector('#df-71014ab0-e372-4b98-b45a-e9c6075443be button.colab-df-convert');\n",
              "        buttonEl.style.display =\n",
              "          google.colab.kernel.accessAllowed ? 'block' : 'none';\n",
              "\n",
              "        async function convertToInteractive(key) {\n",
              "          const element = document.querySelector('#df-71014ab0-e372-4b98-b45a-e9c6075443be');\n",
              "          const dataTable =\n",
              "            await google.colab.kernel.invokeFunction('convertToInteractive',\n",
              "                                                     [key], {});\n",
              "          if (!dataTable) return;\n",
              "\n",
              "          const docLinkHtml = 'Like what you see? Visit the ' +\n",
              "            '<a target=\"_blank\" href=https://colab.research.google.com/notebooks/data_table.ipynb>data table notebook</a>'\n",
              "            + ' to learn more about interactive tables.';\n",
              "          element.innerHTML = '';\n",
              "          dataTable['output_type'] = 'display_data';\n",
              "          await google.colab.output.renderOutput(dataTable, element);\n",
              "          const docLink = document.createElement('div');\n",
              "          docLink.innerHTML = docLinkHtml;\n",
              "          element.appendChild(docLink);\n",
              "        }\n",
              "      </script>\n",
              "    </div>\n",
              "  </div>\n",
              "  "
            ],
            "text/plain": [
              "  friends_in_LINE  GPA   start_day number_of_companies number_of_offer  \\\n",
              "0             484  3.5  2021/02/01                  12               4   \n",
              "1             189  1.5  2022/03/20                   2               0   \n",
              "2             300  3.2  2021/05/01                   6               4   \n",
              "3             183    3  2021/05/01                  10               5   \n",
              "4             436  3.3  2021/03/01                  10               6   \n",
              "\n",
              "   best_offer  \n",
              "0           1  \n",
              "1           0  \n",
              "2           1  \n",
              "3           1  \n",
              "4           1  "
            ]
          },
          "execution_count": 10,
          "metadata": {},
          "output_type": "execute_result"
        }
      ],
      "source": [
        "df.head()"
      ]
    },
    {
      "cell_type": "markdown",
      "metadata": {
        "id": "b_Z-Yjr5HMhT"
      },
      "source": [
        "# start_dayの数値化"
      ]
    },
    {
      "cell_type": "code",
      "execution_count": null,
      "metadata": {
        "id": "eC1h1a3wHL-H"
      },
      "outputs": [],
      "source": [
        "import datetime\n",
        "\n",
        "for i in range(len(df)):\n",
        "  tstr = df['start_day'][i]\n",
        "  tdatetime = datetime.datetime.strptime(tstr, '%Y/%m/%d')\n",
        "  tdate = datetime.date(tdatetime.year, tdatetime.month, tdatetime.day)\n",
        "  df.loc[i, 'start_year'] = tdate.year\n",
        "  df.loc[i, 'start_month'] = tdate.month"
      ]
    },
    {
      "cell_type": "code",
      "execution_count": null,
      "metadata": {
        "colab": {
          "base_uri": "https://localhost:8080/",
          "height": 206
        },
        "id": "nVu8vqurIJZM",
        "outputId": "cb7d55f1-9221-4e6b-d101-ebe864016f65"
      },
      "outputs": [
        {
          "data": {
            "text/html": [
              "\n",
              "  <div id=\"df-0ba06927-777c-4972-94ce-887cf226ca2d\">\n",
              "    <div class=\"colab-df-container\">\n",
              "      <div>\n",
              "<style scoped>\n",
              "    .dataframe tbody tr th:only-of-type {\n",
              "        vertical-align: middle;\n",
              "    }\n",
              "\n",
              "    .dataframe tbody tr th {\n",
              "        vertical-align: top;\n",
              "    }\n",
              "\n",
              "    .dataframe thead th {\n",
              "        text-align: right;\n",
              "    }\n",
              "</style>\n",
              "<table border=\"1\" class=\"dataframe\">\n",
              "  <thead>\n",
              "    <tr style=\"text-align: right;\">\n",
              "      <th></th>\n",
              "      <th>friends_in_LINE</th>\n",
              "      <th>GPA</th>\n",
              "      <th>start_day</th>\n",
              "      <th>number_of_companies</th>\n",
              "      <th>number_of_offer</th>\n",
              "      <th>best_offer</th>\n",
              "      <th>start_year</th>\n",
              "      <th>start_month</th>\n",
              "    </tr>\n",
              "  </thead>\n",
              "  <tbody>\n",
              "    <tr>\n",
              "      <th>0</th>\n",
              "      <td>484</td>\n",
              "      <td>3.5</td>\n",
              "      <td>2021/02/01</td>\n",
              "      <td>12</td>\n",
              "      <td>4</td>\n",
              "      <td>1</td>\n",
              "      <td>2021.0</td>\n",
              "      <td>2.0</td>\n",
              "    </tr>\n",
              "    <tr>\n",
              "      <th>1</th>\n",
              "      <td>189</td>\n",
              "      <td>1.5</td>\n",
              "      <td>2022/03/20</td>\n",
              "      <td>2</td>\n",
              "      <td>0</td>\n",
              "      <td>0</td>\n",
              "      <td>2022.0</td>\n",
              "      <td>3.0</td>\n",
              "    </tr>\n",
              "    <tr>\n",
              "      <th>2</th>\n",
              "      <td>300</td>\n",
              "      <td>3.2</td>\n",
              "      <td>2021/05/01</td>\n",
              "      <td>6</td>\n",
              "      <td>4</td>\n",
              "      <td>1</td>\n",
              "      <td>2021.0</td>\n",
              "      <td>5.0</td>\n",
              "    </tr>\n",
              "    <tr>\n",
              "      <th>3</th>\n",
              "      <td>183</td>\n",
              "      <td>3</td>\n",
              "      <td>2021/05/01</td>\n",
              "      <td>10</td>\n",
              "      <td>5</td>\n",
              "      <td>1</td>\n",
              "      <td>2021.0</td>\n",
              "      <td>5.0</td>\n",
              "    </tr>\n",
              "    <tr>\n",
              "      <th>4</th>\n",
              "      <td>436</td>\n",
              "      <td>3.3</td>\n",
              "      <td>2021/03/01</td>\n",
              "      <td>10</td>\n",
              "      <td>6</td>\n",
              "      <td>1</td>\n",
              "      <td>2021.0</td>\n",
              "      <td>3.0</td>\n",
              "    </tr>\n",
              "  </tbody>\n",
              "</table>\n",
              "</div>\n",
              "      <button class=\"colab-df-convert\" onclick=\"convertToInteractive('df-0ba06927-777c-4972-94ce-887cf226ca2d')\"\n",
              "              title=\"Convert this dataframe to an interactive table.\"\n",
              "              style=\"display:none;\">\n",
              "        \n",
              "  <svg xmlns=\"http://www.w3.org/2000/svg\" height=\"24px\"viewBox=\"0 0 24 24\"\n",
              "       width=\"24px\">\n",
              "    <path d=\"M0 0h24v24H0V0z\" fill=\"none\"/>\n",
              "    <path d=\"M18.56 5.44l.94 2.06.94-2.06 2.06-.94-2.06-.94-.94-2.06-.94 2.06-2.06.94zm-11 1L8.5 8.5l.94-2.06 2.06-.94-2.06-.94L8.5 2.5l-.94 2.06-2.06.94zm10 10l.94 2.06.94-2.06 2.06-.94-2.06-.94-.94-2.06-.94 2.06-2.06.94z\"/><path d=\"M17.41 7.96l-1.37-1.37c-.4-.4-.92-.59-1.43-.59-.52 0-1.04.2-1.43.59L10.3 9.45l-7.72 7.72c-.78.78-.78 2.05 0 2.83L4 21.41c.39.39.9.59 1.41.59.51 0 1.02-.2 1.41-.59l7.78-7.78 2.81-2.81c.8-.78.8-2.07 0-2.86zM5.41 20L4 18.59l7.72-7.72 1.47 1.35L5.41 20z\"/>\n",
              "  </svg>\n",
              "      </button>\n",
              "      \n",
              "  <style>\n",
              "    .colab-df-container {\n",
              "      display:flex;\n",
              "      flex-wrap:wrap;\n",
              "      gap: 12px;\n",
              "    }\n",
              "\n",
              "    .colab-df-convert {\n",
              "      background-color: #E8F0FE;\n",
              "      border: none;\n",
              "      border-radius: 50%;\n",
              "      cursor: pointer;\n",
              "      display: none;\n",
              "      fill: #1967D2;\n",
              "      height: 32px;\n",
              "      padding: 0 0 0 0;\n",
              "      width: 32px;\n",
              "    }\n",
              "\n",
              "    .colab-df-convert:hover {\n",
              "      background-color: #E2EBFA;\n",
              "      box-shadow: 0px 1px 2px rgba(60, 64, 67, 0.3), 0px 1px 3px 1px rgba(60, 64, 67, 0.15);\n",
              "      fill: #174EA6;\n",
              "    }\n",
              "\n",
              "    [theme=dark] .colab-df-convert {\n",
              "      background-color: #3B4455;\n",
              "      fill: #D2E3FC;\n",
              "    }\n",
              "\n",
              "    [theme=dark] .colab-df-convert:hover {\n",
              "      background-color: #434B5C;\n",
              "      box-shadow: 0px 1px 3px 1px rgba(0, 0, 0, 0.15);\n",
              "      filter: drop-shadow(0px 1px 2px rgba(0, 0, 0, 0.3));\n",
              "      fill: #FFFFFF;\n",
              "    }\n",
              "  </style>\n",
              "\n",
              "      <script>\n",
              "        const buttonEl =\n",
              "          document.querySelector('#df-0ba06927-777c-4972-94ce-887cf226ca2d button.colab-df-convert');\n",
              "        buttonEl.style.display =\n",
              "          google.colab.kernel.accessAllowed ? 'block' : 'none';\n",
              "\n",
              "        async function convertToInteractive(key) {\n",
              "          const element = document.querySelector('#df-0ba06927-777c-4972-94ce-887cf226ca2d');\n",
              "          const dataTable =\n",
              "            await google.colab.kernel.invokeFunction('convertToInteractive',\n",
              "                                                     [key], {});\n",
              "          if (!dataTable) return;\n",
              "\n",
              "          const docLinkHtml = 'Like what you see? Visit the ' +\n",
              "            '<a target=\"_blank\" href=https://colab.research.google.com/notebooks/data_table.ipynb>data table notebook</a>'\n",
              "            + ' to learn more about interactive tables.';\n",
              "          element.innerHTML = '';\n",
              "          dataTable['output_type'] = 'display_data';\n",
              "          await google.colab.output.renderOutput(dataTable, element);\n",
              "          const docLink = document.createElement('div');\n",
              "          docLink.innerHTML = docLinkHtml;\n",
              "          element.appendChild(docLink);\n",
              "        }\n",
              "      </script>\n",
              "    </div>\n",
              "  </div>\n",
              "  "
            ],
            "text/plain": [
              "  friends_in_LINE  GPA   start_day number_of_companies number_of_offer  \\\n",
              "0             484  3.5  2021/02/01                  12               4   \n",
              "1             189  1.5  2022/03/20                   2               0   \n",
              "2             300  3.2  2021/05/01                   6               4   \n",
              "3             183    3  2021/05/01                  10               5   \n",
              "4             436  3.3  2021/03/01                  10               6   \n",
              "\n",
              "   best_offer  start_year  start_month  \n",
              "0           1      2021.0          2.0  \n",
              "1           0      2022.0          3.0  \n",
              "2           1      2021.0          5.0  \n",
              "3           1      2021.0          5.0  \n",
              "4           1      2021.0          3.0  "
            ]
          },
          "execution_count": 12,
          "metadata": {},
          "output_type": "execute_result"
        }
      ],
      "source": [
        "df.head()"
      ]
    },
    {
      "cell_type": "markdown",
      "metadata": {
        "id": "L_OGazX9GrnN"
      },
      "source": [
        "# データの可視化"
      ]
    },
    {
      "cell_type": "code",
      "execution_count": null,
      "metadata": {
        "id": "yQMWvKUjxerZ"
      },
      "outputs": [],
      "source": [
        "\"\"\"\n",
        "sns.set(font=\"IPAexGothic\", style='whitegrid')\n",
        "cor = df.corr()\n",
        "\n",
        "# Set the width and height of the figure\n",
        "plt.figure(figsize=(10,5))\n",
        "\n",
        "# Add title\n",
        "plt.title(\"Corr_of_sample_data\")\n",
        "\n",
        "sns.heatmap(data=cor, annot=True, cmap= sns.color_palette('coolwarm', 10), vmax=1, vmin=-1, center=0)\n",
        "\n",
        "# Add label for horizontal axis\n",
        "plt.tight_layout()\n",
        "#plt.savefig('Corr_of_sample_data.png')\n",
        "\"\"\""
      ]
    },
    {
      "cell_type": "markdown",
      "metadata": {
        "id": "hky8c_PyGuHK"
      },
      "source": [
        "# データの前処理"
      ]
    },
    {
      "cell_type": "code",
      "execution_count": null,
      "metadata": {
        "id": "F50FKCi9zoYn"
      },
      "outputs": [],
      "source": [
        "#データをスケーリング\n",
        "from sklearn.preprocessing import StandardScaler\n",
        "scaled_cols = ['friends_in_LINE', 'GPA', 'start_year', 'start_month']\n",
        "standard_sc = StandardScaler()\n",
        "x = standard_sc.fit_transform(df[scaled_cols])\n",
        "\n",
        "scaled_data = pd.DataFrame(x, columns=scaled_cols)\n",
        "scaled_data['best_offer'] = df['best_offer']"
      ]
    },
    {
      "cell_type": "code",
      "execution_count": null,
      "metadata": {
        "colab": {
          "base_uri": "https://localhost:8080/",
          "height": 206
        },
        "id": "-TXeMvsq1B1i",
        "outputId": "893c697a-1d6d-4f6d-9695-0d92906f8089"
      },
      "outputs": [
        {
          "data": {
            "text/html": [
              "\n",
              "  <div id=\"df-755826d2-f65d-4c1e-96f6-23d68deb58ac\">\n",
              "    <div class=\"colab-df-container\">\n",
              "      <div>\n",
              "<style scoped>\n",
              "    .dataframe tbody tr th:only-of-type {\n",
              "        vertical-align: middle;\n",
              "    }\n",
              "\n",
              "    .dataframe tbody tr th {\n",
              "        vertical-align: top;\n",
              "    }\n",
              "\n",
              "    .dataframe thead th {\n",
              "        text-align: right;\n",
              "    }\n",
              "</style>\n",
              "<table border=\"1\" class=\"dataframe\">\n",
              "  <thead>\n",
              "    <tr style=\"text-align: right;\">\n",
              "      <th></th>\n",
              "      <th>friends_in_LINE</th>\n",
              "      <th>GPA</th>\n",
              "      <th>start_year</th>\n",
              "      <th>start_month</th>\n",
              "      <th>best_offer</th>\n",
              "    </tr>\n",
              "  </thead>\n",
              "  <tbody>\n",
              "    <tr>\n",
              "      <th>0</th>\n",
              "      <td>0.711586</td>\n",
              "      <td>1.107800</td>\n",
              "      <td>-0.185695</td>\n",
              "      <td>-0.904663</td>\n",
              "      <td>1</td>\n",
              "    </tr>\n",
              "    <tr>\n",
              "      <th>1</th>\n",
              "      <td>-0.698837</td>\n",
              "      <td>-3.109712</td>\n",
              "      <td>1.671258</td>\n",
              "      <td>-0.565414</td>\n",
              "      <td>0</td>\n",
              "    </tr>\n",
              "    <tr>\n",
              "      <th>2</th>\n",
              "      <td>-0.168135</td>\n",
              "      <td>0.475173</td>\n",
              "      <td>-0.185695</td>\n",
              "      <td>0.113083</td>\n",
              "      <td>1</td>\n",
              "    </tr>\n",
              "    <tr>\n",
              "      <th>3</th>\n",
              "      <td>-0.727523</td>\n",
              "      <td>0.053422</td>\n",
              "      <td>-0.185695</td>\n",
              "      <td>0.113083</td>\n",
              "      <td>1</td>\n",
              "    </tr>\n",
              "    <tr>\n",
              "      <th>4</th>\n",
              "      <td>0.482094</td>\n",
              "      <td>0.686049</td>\n",
              "      <td>-0.185695</td>\n",
              "      <td>-0.565414</td>\n",
              "      <td>1</td>\n",
              "    </tr>\n",
              "  </tbody>\n",
              "</table>\n",
              "</div>\n",
              "      <button class=\"colab-df-convert\" onclick=\"convertToInteractive('df-755826d2-f65d-4c1e-96f6-23d68deb58ac')\"\n",
              "              title=\"Convert this dataframe to an interactive table.\"\n",
              "              style=\"display:none;\">\n",
              "        \n",
              "  <svg xmlns=\"http://www.w3.org/2000/svg\" height=\"24px\"viewBox=\"0 0 24 24\"\n",
              "       width=\"24px\">\n",
              "    <path d=\"M0 0h24v24H0V0z\" fill=\"none\"/>\n",
              "    <path d=\"M18.56 5.44l.94 2.06.94-2.06 2.06-.94-2.06-.94-.94-2.06-.94 2.06-2.06.94zm-11 1L8.5 8.5l.94-2.06 2.06-.94-2.06-.94L8.5 2.5l-.94 2.06-2.06.94zm10 10l.94 2.06.94-2.06 2.06-.94-2.06-.94-.94-2.06-.94 2.06-2.06.94z\"/><path d=\"M17.41 7.96l-1.37-1.37c-.4-.4-.92-.59-1.43-.59-.52 0-1.04.2-1.43.59L10.3 9.45l-7.72 7.72c-.78.78-.78 2.05 0 2.83L4 21.41c.39.39.9.59 1.41.59.51 0 1.02-.2 1.41-.59l7.78-7.78 2.81-2.81c.8-.78.8-2.07 0-2.86zM5.41 20L4 18.59l7.72-7.72 1.47 1.35L5.41 20z\"/>\n",
              "  </svg>\n",
              "      </button>\n",
              "      \n",
              "  <style>\n",
              "    .colab-df-container {\n",
              "      display:flex;\n",
              "      flex-wrap:wrap;\n",
              "      gap: 12px;\n",
              "    }\n",
              "\n",
              "    .colab-df-convert {\n",
              "      background-color: #E8F0FE;\n",
              "      border: none;\n",
              "      border-radius: 50%;\n",
              "      cursor: pointer;\n",
              "      display: none;\n",
              "      fill: #1967D2;\n",
              "      height: 32px;\n",
              "      padding: 0 0 0 0;\n",
              "      width: 32px;\n",
              "    }\n",
              "\n",
              "    .colab-df-convert:hover {\n",
              "      background-color: #E2EBFA;\n",
              "      box-shadow: 0px 1px 2px rgba(60, 64, 67, 0.3), 0px 1px 3px 1px rgba(60, 64, 67, 0.15);\n",
              "      fill: #174EA6;\n",
              "    }\n",
              "\n",
              "    [theme=dark] .colab-df-convert {\n",
              "      background-color: #3B4455;\n",
              "      fill: #D2E3FC;\n",
              "    }\n",
              "\n",
              "    [theme=dark] .colab-df-convert:hover {\n",
              "      background-color: #434B5C;\n",
              "      box-shadow: 0px 1px 3px 1px rgba(0, 0, 0, 0.15);\n",
              "      filter: drop-shadow(0px 1px 2px rgba(0, 0, 0, 0.3));\n",
              "      fill: #FFFFFF;\n",
              "    }\n",
              "  </style>\n",
              "\n",
              "      <script>\n",
              "        const buttonEl =\n",
              "          document.querySelector('#df-755826d2-f65d-4c1e-96f6-23d68deb58ac button.colab-df-convert');\n",
              "        buttonEl.style.display =\n",
              "          google.colab.kernel.accessAllowed ? 'block' : 'none';\n",
              "\n",
              "        async function convertToInteractive(key) {\n",
              "          const element = document.querySelector('#df-755826d2-f65d-4c1e-96f6-23d68deb58ac');\n",
              "          const dataTable =\n",
              "            await google.colab.kernel.invokeFunction('convertToInteractive',\n",
              "                                                     [key], {});\n",
              "          if (!dataTable) return;\n",
              "\n",
              "          const docLinkHtml = 'Like what you see? Visit the ' +\n",
              "            '<a target=\"_blank\" href=https://colab.research.google.com/notebooks/data_table.ipynb>data table notebook</a>'\n",
              "            + ' to learn more about interactive tables.';\n",
              "          element.innerHTML = '';\n",
              "          dataTable['output_type'] = 'display_data';\n",
              "          await google.colab.output.renderOutput(dataTable, element);\n",
              "          const docLink = document.createElement('div');\n",
              "          docLink.innerHTML = docLinkHtml;\n",
              "          element.appendChild(docLink);\n",
              "        }\n",
              "      </script>\n",
              "    </div>\n",
              "  </div>\n",
              "  "
            ],
            "text/plain": [
              "   friends_in_LINE       GPA  start_year  start_month  best_offer\n",
              "0         0.711586  1.107800   -0.185695    -0.904663           1\n",
              "1        -0.698837 -3.109712    1.671258    -0.565414           0\n",
              "2        -0.168135  0.475173   -0.185695     0.113083           1\n",
              "3        -0.727523  0.053422   -0.185695     0.113083           1\n",
              "4         0.482094  0.686049   -0.185695    -0.565414           1"
            ]
          },
          "execution_count": 15,
          "metadata": {},
          "output_type": "execute_result"
        }
      ],
      "source": [
        "scaled_data.head()"
      ]
    },
    {
      "cell_type": "markdown",
      "metadata": {
        "id": "y5kaoUE6Gwuz"
      },
      "source": [
        "# 重回帰分析"
      ]
    },
    {
      "cell_type": "code",
      "execution_count": null,
      "metadata": {
        "id": "ZvBGumGj1DIb"
      },
      "outputs": [],
      "source": [
        "#重回帰分析用のデータセット整備\n",
        "X = scaled_data.drop(['best_offer'], axis=1)\n",
        "y_reg = df['number_of_offer']"
      ]
    },
    {
      "cell_type": "code",
      "execution_count": null,
      "metadata": {
        "colab": {
          "base_uri": "https://localhost:8080/"
        },
        "id": "rIvh_yQ84SBq",
        "outputId": "5246d061-23f1-464c-b03d-8fdc2e34ca1c"
      },
      "outputs": [
        {
          "name": "stdout",
          "output_type": "stream",
          "text": [
            "                                 OLS Regression Results                                \n",
            "=======================================================================================\n",
            "Dep. Variable:        number_of_offer   R-squared (uncentered):                   0.130\n",
            "Model:                            OLS   Adj. R-squared (uncentered):             -0.004\n",
            "Method:                 Least Squares   F-statistic:                             0.9675\n",
            "Date:                Fri, 14 Oct 2022   Prob (F-statistic):                       0.442\n",
            "Time:                        14:07:44   Log-Likelihood:                         -81.306\n",
            "No. Observations:                  30   AIC:                                      170.6\n",
            "Df Residuals:                      26   BIC:                                      176.2\n",
            "Df Model:                           4                                                  \n",
            "Covariance Type:            nonrobust                                                  \n",
            "===================================================================================\n",
            "                      coef    std err          t      P>|t|      [0.025      0.975]\n",
            "-----------------------------------------------------------------------------------\n",
            "friends_in_LINE     0.0636      0.764      0.083      0.934      -1.506       1.634\n",
            "GPA                 0.0133      0.805      0.017      0.987      -1.642       1.668\n",
            "start_year         -1.0934      0.808     -1.353      0.188      -2.755       0.568\n",
            "start_month        -1.1772      0.774     -1.521      0.140      -2.768       0.413\n",
            "==============================================================================\n",
            "Omnibus:                        0.771   Durbin-Watson:                   0.343\n",
            "Prob(Omnibus):                  0.680   Jarque-Bera (JB):                0.409\n",
            "Skew:                           0.286   Prob(JB):                        0.815\n",
            "Kurtosis:                       2.970   Cond. No.                         1.82\n",
            "==============================================================================\n",
            "\n",
            "Notes:\n",
            "[1] R² is computed without centering (uncentered) since the model does not contain a constant.\n",
            "[2] Standard Errors assume that the covariance matrix of the errors is correctly specified.\n"
          ]
        }
      ],
      "source": [
        "import statsmodels.api as sm\n",
        "model = sm.OLS(y_reg.astype(float), X.astype(float))  # モデルを作成\n",
        "\n",
        "result = model.fit()      # モデルを適応\n",
        "print(result.summary())        # 結果を確認"
      ]
    },
    {
      "cell_type": "markdown",
      "metadata": {
        "id": "oKxnPt5SL4c8"
      },
      "source": [
        "# ロジスティク回帰"
      ]
    },
    {
      "cell_type": "code",
      "execution_count": null,
      "metadata": {
        "colab": {
          "base_uri": "https://localhost:8080/"
        },
        "id": "7SAWULH4vASB",
        "outputId": "f81afa65-99b5-4d92-d6c5-c6339a520f26"
      },
      "outputs": [
        {
          "name": "stdout",
          "output_type": "stream",
          "text": [
            "                           Logit Regression Results                           \n",
            "==============================================================================\n",
            "Dep. Variable:             best_offer   No. Observations:                   30\n",
            "Model:                          Logit   Df Residuals:                       25\n",
            "Method:                           MLE   Df Model:                            4\n",
            "Date:                Fri, 14 Oct 2022   Pseudo R-squ.:                  0.2849\n",
            "Time:                        13:59:51   Log-Likelihood:                -6.9739\n",
            "converged:                       True   LL-Null:                       -9.7525\n",
            "Covariance Type:            nonrobust   LLR p-value:                    0.2347\n",
            "===================================================================================\n",
            "                      coef    std err          z      P>|z|      [0.025      0.975]\n",
            "-----------------------------------------------------------------------------------\n",
            "const               3.2343      1.126      2.873      0.004       1.028       5.441\n",
            "friends_in_LINE     1.5020      1.764      0.851      0.395      -1.956       4.960\n",
            "GPA                 1.3228      0.909      1.455      0.146      -0.459       3.104\n",
            "start_year         -0.2255      1.017     -0.222      0.824      -2.218       1.767\n",
            "start_month        -0.9726      0.771     -1.261      0.207      -2.484       0.539\n",
            "===================================================================================\n"
          ]
        }
      ],
      "source": [
        "#ロジスティック回帰分析\n",
        "from sklearn.linear_model import LogisticRegression\n",
        "import statsmodels.api as sm\n",
        "\n",
        "y_cla = df['best_offer']\n",
        "\n",
        "model = sm.Logit(y_cla, sm.add_constant(X))\n",
        "result = model.fit(disp=0)\n",
        "print(result.summary())"
      ]
    }
  ],
  "metadata": {
    "colab": {
      "provenance": []
    },
    "kernelspec": {
      "display_name": "Python 3",
      "name": "python3"
    },
    "language_info": {
      "name": "python"
    }
  },
  "nbformat": 4,
  "nbformat_minor": 0
}
