{
  "nbformat": 4,
  "nbformat_minor": 0,
  "metadata": {
    "colab": {
      "provenance": []
    },
    "kernelspec": {
      "name": "python3",
      "display_name": "Python 3"
    },
    "language_info": {
      "name": "python"
    }
  },
  "cells": [
    {
      "cell_type": "code",
      "source": [
        "!pip install japanize-matplotlib"
      ],
      "metadata": {
        "id": "3CBjFjMkqqhi"
      },
      "execution_count": null,
      "outputs": []
    },
    {
      "cell_type": "code",
      "source": [
        "!pip install gspread"
      ],
      "metadata": {
        "id": "PIzsFl2hA8b_"
      },
      "execution_count": null,
      "outputs": []
    },
    {
      "cell_type": "code",
      "execution_count": null,
      "metadata": {
        "id": "NnXuiZaUqYpy"
      },
      "outputs": [],
      "source": [
        "import pandas as pd\n",
        "import numpy as np\n",
        "%matplotlib inline\n",
        "import japanize_matplotlib\n",
        "from sklearn.model_selection import train_test_split\n",
        "from matplotlib import pyplot as plt\n",
        "from sklearn.linear_model import LinearRegression\n",
        "import seaborn as sns\n",
        "import warnings\n",
        "warnings.filterwarnings('ignore')"
      ]
    },
    {
      "cell_type": "code",
      "source": [
        "japanize_matplotlib.japanize()"
      ],
      "metadata": {
        "id": "elDW0mAOy7wf"
      },
      "execution_count": null,
      "outputs": []
    },
    {
      "cell_type": "code",
      "source": [
        "#ドライブへのアクセス\n",
        "from google.colab import drive\n",
        "drive.mount('/content/drive')\n",
        "%cd \"myPath\""
      ],
      "metadata": {
        "id": "OatEDe_zq6pX"
      },
      "execution_count": null,
      "outputs": []
    },
    {
      "cell_type": "markdown",
      "source": [
        "# データのダウンロード"
      ],
      "metadata": {
        "id": "c9ZrCwBMA05I"
      }
    },
    {
      "cell_type": "code",
      "source": [
        "cols = [\n",
        "    'timestamp',\n",
        "    'mail_adress',\n",
        "    'sex',\n",
        "    'friends_in_LINE',\n",
        "    'GPA',\n",
        "    'start_day',\n",
        "    'number_of_companies', # 受けた企業数\n",
        "    'number_of_offer',     # 内定数\n",
        "    'best_offer',          # 第一志望群からの内定可否\n",
        "    'Cooperativeness',     # 協調性\n",
        "    'Aggressiveness',      # 積極性\n",
        "    'Action',              # 行動力\n",
        "    'Communication',       # コミュ力\n",
        "    'Problem-solving ability',\n",
        "    'Challange',\n",
        "    'Job_hunting_action'\n",
        "    ]"
      ],
      "metadata": {
        "id": "f3q5hTaYC44A"
      },
      "execution_count": null,
      "outputs": []
    },
    {
      "cell_type": "code",
      "source": [
        "# 任意のライブラリのインポート\n",
        "from google.colab import auth\n",
        "from google.auth import default\n",
        "from oauth2client.client import GoogleCredentials\n",
        "import gspread\n",
        "import pandas as pd\n",
        "\n",
        "# GSS読み取りのための準備\n",
        "auth.authenticate_user()\n",
        "creds, _ = default()\n",
        "gc = gspread.authorize(creds)\n",
        "\n",
        "# 読み込み対象のスプレットシートのURLの定義\n",
        "url = 'myPath'\n",
        "\n",
        "# データをpandasに乗せる\n",
        "worksheet = gc.open_by_url(url).get_worksheet(0)\n",
        "data = pd.DataFrame(worksheet.get_all_values()[1:], columns = cols)"
      ],
      "metadata": {
        "id": "hKGUISvjA0bR"
      },
      "execution_count": null,
      "outputs": []
    },
    {
      "cell_type": "code",
      "source": [
        "#はいを1に、いいえ, 性別を0に変換\n",
        "data['best_offer'].replace({'はい':1, 'いいえ':0}, inplace=True)\n",
        "data['sex'].replace({'男性':1, '女性':0}, inplace=True)\n",
        "data.head()"
      ],
      "metadata": {
        "id": "peVfnR-2E6b3"
      },
      "execution_count": null,
      "outputs": []
    },
    {
      "cell_type": "code",
      "source": [
        "# 使用カラムを限定\n",
        "use_cols= ['Cooperativeness',\n",
        "           'Aggressiveness',\n",
        "           'Action',\n",
        "           'Communication',\n",
        "           'Problem-solving ability',\n",
        "           'Challange',\n",
        "           'number_of_companies',\n",
        "           'number_of_offer',\n",
        "           'best_offer'\n",
        "           ]\n",
        "\n",
        "df = data[use_cols]"
      ],
      "metadata": {
        "id": "Uzztk0M9Ejv6"
      },
      "execution_count": null,
      "outputs": []
    },
    {
      "cell_type": "code",
      "source": [
        "df.head()"
      ],
      "metadata": {
        "colab": {
          "base_uri": "https://localhost:8080/",
          "height": 206
        },
        "id": "ZQ635gvoF0wY",
        "outputId": "9bb042be-1376-4014-a1d5-06340a6c2abb"
      },
      "execution_count": null,
      "outputs": [
        {
          "output_type": "execute_result",
          "data": {
            "text/plain": [
              "  Cooperativeness Aggressiveness Action Communication Problem-solving ability  \\\n",
              "0               3              5      5             5                       5   \n",
              "1               4              4      2             3                       4   \n",
              "2               4              3      2             3                       4   \n",
              "3               3              3      4             3                       4   \n",
              "4               4              4      5             4                       3   \n",
              "\n",
              "  Challange number_of_companies number_of_offer  best_offer  \n",
              "0         5                  12               4           1  \n",
              "1         2                   2               0           0  \n",
              "2         3                   6               4           1  \n",
              "3         4                  10               5           1  \n",
              "4         4                  10               6           1  "
            ],
            "text/html": [
              "\n",
              "  <div id=\"df-2ca94b60-7104-45ec-b858-b5952d99df63\">\n",
              "    <div class=\"colab-df-container\">\n",
              "      <div>\n",
              "<style scoped>\n",
              "    .dataframe tbody tr th:only-of-type {\n",
              "        vertical-align: middle;\n",
              "    }\n",
              "\n",
              "    .dataframe tbody tr th {\n",
              "        vertical-align: top;\n",
              "    }\n",
              "\n",
              "    .dataframe thead th {\n",
              "        text-align: right;\n",
              "    }\n",
              "</style>\n",
              "<table border=\"1\" class=\"dataframe\">\n",
              "  <thead>\n",
              "    <tr style=\"text-align: right;\">\n",
              "      <th></th>\n",
              "      <th>Cooperativeness</th>\n",
              "      <th>Aggressiveness</th>\n",
              "      <th>Action</th>\n",
              "      <th>Communication</th>\n",
              "      <th>Problem-solving ability</th>\n",
              "      <th>Challange</th>\n",
              "      <th>number_of_companies</th>\n",
              "      <th>number_of_offer</th>\n",
              "      <th>best_offer</th>\n",
              "    </tr>\n",
              "  </thead>\n",
              "  <tbody>\n",
              "    <tr>\n",
              "      <th>0</th>\n",
              "      <td>3</td>\n",
              "      <td>5</td>\n",
              "      <td>5</td>\n",
              "      <td>5</td>\n",
              "      <td>5</td>\n",
              "      <td>5</td>\n",
              "      <td>12</td>\n",
              "      <td>4</td>\n",
              "      <td>1</td>\n",
              "    </tr>\n",
              "    <tr>\n",
              "      <th>1</th>\n",
              "      <td>4</td>\n",
              "      <td>4</td>\n",
              "      <td>2</td>\n",
              "      <td>3</td>\n",
              "      <td>4</td>\n",
              "      <td>2</td>\n",
              "      <td>2</td>\n",
              "      <td>0</td>\n",
              "      <td>0</td>\n",
              "    </tr>\n",
              "    <tr>\n",
              "      <th>2</th>\n",
              "      <td>4</td>\n",
              "      <td>3</td>\n",
              "      <td>2</td>\n",
              "      <td>3</td>\n",
              "      <td>4</td>\n",
              "      <td>3</td>\n",
              "      <td>6</td>\n",
              "      <td>4</td>\n",
              "      <td>1</td>\n",
              "    </tr>\n",
              "    <tr>\n",
              "      <th>3</th>\n",
              "      <td>3</td>\n",
              "      <td>3</td>\n",
              "      <td>4</td>\n",
              "      <td>3</td>\n",
              "      <td>4</td>\n",
              "      <td>4</td>\n",
              "      <td>10</td>\n",
              "      <td>5</td>\n",
              "      <td>1</td>\n",
              "    </tr>\n",
              "    <tr>\n",
              "      <th>4</th>\n",
              "      <td>4</td>\n",
              "      <td>4</td>\n",
              "      <td>5</td>\n",
              "      <td>4</td>\n",
              "      <td>3</td>\n",
              "      <td>4</td>\n",
              "      <td>10</td>\n",
              "      <td>6</td>\n",
              "      <td>1</td>\n",
              "    </tr>\n",
              "  </tbody>\n",
              "</table>\n",
              "</div>\n",
              "      <button class=\"colab-df-convert\" onclick=\"convertToInteractive('df-2ca94b60-7104-45ec-b858-b5952d99df63')\"\n",
              "              title=\"Convert this dataframe to an interactive table.\"\n",
              "              style=\"display:none;\">\n",
              "        \n",
              "  <svg xmlns=\"http://www.w3.org/2000/svg\" height=\"24px\"viewBox=\"0 0 24 24\"\n",
              "       width=\"24px\">\n",
              "    <path d=\"M0 0h24v24H0V0z\" fill=\"none\"/>\n",
              "    <path d=\"M18.56 5.44l.94 2.06.94-2.06 2.06-.94-2.06-.94-.94-2.06-.94 2.06-2.06.94zm-11 1L8.5 8.5l.94-2.06 2.06-.94-2.06-.94L8.5 2.5l-.94 2.06-2.06.94zm10 10l.94 2.06.94-2.06 2.06-.94-2.06-.94-.94-2.06-.94 2.06-2.06.94z\"/><path d=\"M17.41 7.96l-1.37-1.37c-.4-.4-.92-.59-1.43-.59-.52 0-1.04.2-1.43.59L10.3 9.45l-7.72 7.72c-.78.78-.78 2.05 0 2.83L4 21.41c.39.39.9.59 1.41.59.51 0 1.02-.2 1.41-.59l7.78-7.78 2.81-2.81c.8-.78.8-2.07 0-2.86zM5.41 20L4 18.59l7.72-7.72 1.47 1.35L5.41 20z\"/>\n",
              "  </svg>\n",
              "      </button>\n",
              "      \n",
              "  <style>\n",
              "    .colab-df-container {\n",
              "      display:flex;\n",
              "      flex-wrap:wrap;\n",
              "      gap: 12px;\n",
              "    }\n",
              "\n",
              "    .colab-df-convert {\n",
              "      background-color: #E8F0FE;\n",
              "      border: none;\n",
              "      border-radius: 50%;\n",
              "      cursor: pointer;\n",
              "      display: none;\n",
              "      fill: #1967D2;\n",
              "      height: 32px;\n",
              "      padding: 0 0 0 0;\n",
              "      width: 32px;\n",
              "    }\n",
              "\n",
              "    .colab-df-convert:hover {\n",
              "      background-color: #E2EBFA;\n",
              "      box-shadow: 0px 1px 2px rgba(60, 64, 67, 0.3), 0px 1px 3px 1px rgba(60, 64, 67, 0.15);\n",
              "      fill: #174EA6;\n",
              "    }\n",
              "\n",
              "    [theme=dark] .colab-df-convert {\n",
              "      background-color: #3B4455;\n",
              "      fill: #D2E3FC;\n",
              "    }\n",
              "\n",
              "    [theme=dark] .colab-df-convert:hover {\n",
              "      background-color: #434B5C;\n",
              "      box-shadow: 0px 1px 3px 1px rgba(0, 0, 0, 0.15);\n",
              "      filter: drop-shadow(0px 1px 2px rgba(0, 0, 0, 0.3));\n",
              "      fill: #FFFFFF;\n",
              "    }\n",
              "  </style>\n",
              "\n",
              "      <script>\n",
              "        const buttonEl =\n",
              "          document.querySelector('#df-2ca94b60-7104-45ec-b858-b5952d99df63 button.colab-df-convert');\n",
              "        buttonEl.style.display =\n",
              "          google.colab.kernel.accessAllowed ? 'block' : 'none';\n",
              "\n",
              "        async function convertToInteractive(key) {\n",
              "          const element = document.querySelector('#df-2ca94b60-7104-45ec-b858-b5952d99df63');\n",
              "          const dataTable =\n",
              "            await google.colab.kernel.invokeFunction('convertToInteractive',\n",
              "                                                     [key], {});\n",
              "          if (!dataTable) return;\n",
              "\n",
              "          const docLinkHtml = 'Like what you see? Visit the ' +\n",
              "            '<a target=\"_blank\" href=https://colab.research.google.com/notebooks/data_table.ipynb>data table notebook</a>'\n",
              "            + ' to learn more about interactive tables.';\n",
              "          element.innerHTML = '';\n",
              "          dataTable['output_type'] = 'display_data';\n",
              "          await google.colab.output.renderOutput(dataTable, element);\n",
              "          const docLink = document.createElement('div');\n",
              "          docLink.innerHTML = docLinkHtml;\n",
              "          element.appendChild(docLink);\n",
              "        }\n",
              "      </script>\n",
              "    </div>\n",
              "  </div>\n",
              "  "
            ]
          },
          "metadata": {},
          "execution_count": 10
        }
      ]
    },
    {
      "cell_type": "markdown",
      "source": [
        "# 重回帰分析"
      ],
      "metadata": {
        "id": "y5kaoUE6Gwuz"
      }
    },
    {
      "cell_type": "code",
      "source": [
        "#重回帰分析のデータセットじゅんび\n",
        "X = df.drop(['number_of_companies',\t'number_of_offer', 'best_offer'], axis=1)\n",
        "y_reg = df['number_of_offer']"
      ],
      "metadata": {
        "id": "ZvBGumGj1DIb"
      },
      "execution_count": null,
      "outputs": []
    },
    {
      "cell_type": "code",
      "source": [
        "import statsmodels.api as sm\n",
        "model = sm.OLS(y_reg.astype(float), X.astype(float))  # モデルを作成\n",
        "\n",
        "result = model.fit()      # モデルを適応\n",
        "print(result.summary())   # 結果を確認"
      ],
      "metadata": {
        "id": "LKP6LKhQ1qZC",
        "outputId": "3dddc664-9ec9-460c-a2a1-1ef2e61c3f1e",
        "colab": {
          "base_uri": "https://localhost:8080/"
        }
      },
      "execution_count": null,
      "outputs": [
        {
          "output_type": "stream",
          "name": "stdout",
          "text": [
            "                                 OLS Regression Results                                \n",
            "=======================================================================================\n",
            "Dep. Variable:        number_of_offer   R-squared (uncentered):                   0.749\n",
            "Model:                            OLS   Adj. R-squared (uncentered):              0.687\n",
            "Method:                 Least Squares   F-statistic:                              11.96\n",
            "Date:                Fri, 14 Oct 2022   Prob (F-statistic):                    3.31e-06\n",
            "Time:                        14:12:24   Log-Likelihood:                         -62.632\n",
            "No. Observations:                  30   AIC:                                      137.3\n",
            "Df Residuals:                      24   BIC:                                      145.7\n",
            "Df Model:                           6                                                  \n",
            "Covariance Type:            nonrobust                                                  \n",
            "===========================================================================================\n",
            "                              coef    std err          t      P>|t|      [0.025      0.975]\n",
            "-------------------------------------------------------------------------------------------\n",
            "Cooperativeness             0.1138      0.365      0.311      0.758      -0.640       0.868\n",
            "Aggressiveness             -0.5057      0.510     -0.992      0.331      -1.557       0.546\n",
            "Action                      0.6367      0.581      1.095      0.284      -0.563       1.837\n",
            "Communication               0.5745      0.495      1.161      0.257      -0.446       1.596\n",
            "Problem-solving ability    -0.0891      0.407     -0.219      0.829      -0.930       0.751\n",
            "Challange                   0.1348      0.632      0.213      0.833      -1.170       1.440\n",
            "==============================================================================\n",
            "Omnibus:                        3.495   Durbin-Watson:                   2.044\n",
            "Prob(Omnibus):                  0.174   Jarque-Bera (JB):                2.321\n",
            "Skew:                           0.666   Prob(JB):                        0.313\n",
            "Kurtosis:                       3.283   Cond. No.                         17.6\n",
            "==============================================================================\n",
            "\n",
            "Notes:\n",
            "[1] R² is computed without centering (uncentered) since the model does not contain a constant.\n",
            "[2] Standard Errors assume that the covariance matrix of the errors is correctly specified.\n"
          ]
        }
      ]
    },
    {
      "cell_type": "markdown",
      "source": [
        "# ロジスティク回帰"
      ],
      "metadata": {
        "id": "oKxnPt5SL4c8"
      }
    },
    {
      "cell_type": "code",
      "source": [
        "#ロジスティック回帰分析\n",
        "from sklearn.linear_model import LogisticRegression\n",
        "import statsmodels.api as sm\n",
        "\n",
        "y_cla = df['best_offer']\n",
        "\n",
        "model = sm.Logit(y_cla.astype(float), X.astype(float))\n",
        "result = model.fit(disp=0)\n",
        "print(result.summary())"
      ],
      "metadata": {
        "colab": {
          "base_uri": "https://localhost:8080/"
        },
        "id": "7SAWULH4vASB",
        "outputId": "ee4a5aaf-4e24-4154-c858-79db8cf4d541"
      },
      "execution_count": null,
      "outputs": [
        {
          "output_type": "stream",
          "name": "stdout",
          "text": [
            "                           Logit Regression Results                           \n",
            "==============================================================================\n",
            "Dep. Variable:             best_offer   No. Observations:                   30\n",
            "Model:                          Logit   Df Residuals:                       24\n",
            "Method:                           MLE   Df Model:                            5\n",
            "Date:                Fri, 14 Oct 2022   Pseudo R-squ.:                  0.3381\n",
            "Time:                        14:10:03   Log-Likelihood:                -6.4552\n",
            "converged:                       True   LL-Null:                       -9.7525\n",
            "Covariance Type:            nonrobust   LLR p-value:                    0.2526\n",
            "===========================================================================================\n",
            "                              coef    std err          z      P>|z|      [0.025      0.975]\n",
            "-------------------------------------------------------------------------------------------\n",
            "Cooperativeness             0.0374      0.719      0.052      0.959      -1.372       1.447\n",
            "Aggressiveness             -0.5453      0.762     -0.716      0.474      -2.039       0.948\n",
            "Action                      0.0218      1.135      0.019      0.985      -2.203       2.247\n",
            "Communication              -0.3090      0.818     -0.378      0.705      -1.912       1.294\n",
            "Problem-solving ability    -0.6340      0.812     -0.781      0.435      -2.226       0.958\n",
            "Challange                   2.4493      1.959      1.251      0.211      -1.389       6.288\n",
            "===========================================================================================\n"
          ]
        }
      ]
    }
  ]
}